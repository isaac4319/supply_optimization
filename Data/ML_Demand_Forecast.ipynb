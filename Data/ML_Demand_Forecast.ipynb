{
 "cells": [
  {
   "cell_type": "code",
   "execution_count": 1,
   "id": "94b9e4d5",
   "metadata": {},
   "outputs": [],
   "source": [
    "import pandas as pd \n",
    "import numpy as np \n",
    "import os\n",
    "import datetime\n",
    "import random\n",
    "from datetime import datetime, timedelta"
   ]
  },
  {
   "cell_type": "code",
   "execution_count": 2,
   "id": "3fedb59c",
   "metadata": {},
   "outputs": [],
   "source": [
    "WAREHOUSES = [\n",
    "    \"Paris\", \"Lyon\", \"Marseille\", \"Berlin\", \"Madrid\", \"Barcelona\",\n",
    "    \"Warsaw\", \"Prague\", \"Amsterdam\", \"Rome\", \"Lisbon\", \"Vienna\", \"Brussels\"\n",
    "]\n",
    "\n",
    "SKUS = [f\"P{1000 + i}\" for i in range(100)]  # 100 SKUs\n",
    "\n",
    "DAYS = 365  # 1 year of data"
   ]
  },
  {
   "cell_type": "code",
   "execution_count": 3,
   "id": "b9f55ce0",
   "metadata": {},
   "outputs": [],
   "source": [
    "OUTPUT_DIR = \"data\"\n",
    "os.makedirs(OUTPUT_DIR, exist_ok=True)\n",
    "\n",
    "def generate_dates(n_days):\n",
    "    return [(datetime.today() - timedelta(days=i)).strftime(\"%Y-%m-%d\") for i in range(n_days)][::-1]\n",
    "\n",
    "def generate_large_demand():\n",
    "    rows = []\n",
    "    date_range = generate_dates(DAYS)\n",
    "    for sku in SKUS:\n",
    "        base = np.random.randint(50, 500)\n",
    "        seasonality = np.sin(np.linspace(0, 2 * np.pi, DAYS)) * random.randint(5, 50)\n",
    "\n",
    "        for wh in WAREHOUSES:\n",
    "            for i, date in enumerate(date_range):\n",
    "                noise = np.random.normal(0, 15)\n",
    "                daily = base + seasonality[i % DAYS] + noise\n",
    "                demand = int(max(0, daily))\n",
    "                rows.append([sku, wh, date, demand])\n",
    "    df = pd.DataFrame(rows, columns=['sku', 'warehouse', 'date', 'demand_units'])\n",
    "    df.to_csv('data/demand.csv', index=False)"
   ]
  },
  {
   "cell_type": "code",
   "execution_count": null,
   "id": "45264479",
   "metadata": {},
   "outputs": [
    {
     "name": "stdout",
     "output_type": "stream",
     "text": [
      "🔁 Generating synthetic supply chain data...\n",
      "Data generation complete CSVs saved in './data/'\n"
     ]
    }
   ],
   "source": [
    "def generate_demand():\n",
    "    date_range = generate_dates(DAYS)\n",
    "    rows = []\n",
    "    for sku in SKUS:\n",
    "        base_demand = np.random.randint(50, 500)\n",
    "        seasonality = np.sin(np.linspace(0, 2 * np.pi, DAYS)) * random.randint(5, 50)\n",
    "        for wh in WAREHOUSES:\n",
    "            for i, date in enumerate(date_range):\n",
    "                noise = np.random.normal(0, 15)\n",
    "                demand = int(max(0, base_demand + seasonality[i] + noise))\n",
    "                rows.append([sku, wh, date, demand])\n",
    "    df = pd.DataFrame(rows, columns=['sku', 'warehouse', 'date', 'demand_units'])\n",
    "    df.to_csv(f\"{OUTPUT_DIR}/demand.csv\", index=False)\n",
    "\n",
    "def generate_inventory():\n",
    "    date_range = generate_dates(DAYS)\n",
    "    rows = []\n",
    "    for sku in SKUS:\n",
    "        for wh in WAREHOUSES:\n",
    "            for date in date_range:\n",
    "                stock = np.random.randint(50, 600)\n",
    "                rows.append([sku, wh, date, stock])\n",
    "    df = pd.DataFrame(rows, columns=['sku', 'warehouse', 'date', 'stock_level'])\n",
    "    df.to_csv(f\"{OUTPUT_DIR}/inventory.csv\", index=False)\n",
    "\n",
    "def generate_transport_costs():\n",
    "    rows = []\n",
    "    for i in WAREHOUSES:\n",
    "        for j in WAREHOUSES:\n",
    "            if i != j:\n",
    "                cost = round(random.uniform(2.5, 5.0), 2)\n",
    "                rows.append([i, j, cost])\n",
    "    df = pd.DataFrame(rows, columns=['from_warehouse', 'to_warehouse', 'cost_per_unit'])\n",
    "    df.to_csv(f\"{OUTPUT_DIR}/transport_costs.csv\", index=False)\n",
    "\n",
    "def main():\n",
    "    generate_demand()\n",
    "    generate_inventory()\n",
    "    generate_transport_costs()\n",
    "    print(\"Data generation complete CSVs saved in './data/'\")\n",
    "\n",
    "if __name__ == \"__main__\":\n",
    "    main()"
   ]
  },
  {
   "cell_type": "code",
   "execution_count": null,
   "id": "c00b05c0",
   "metadata": {},
   "outputs": [],
   "source": []
  }
 ],
 "metadata": {
  "kernelspec": {
   "display_name": "Python 3",
   "language": "python",
   "name": "python3"
  },
  "language_info": {
   "codemirror_mode": {
    "name": "ipython",
    "version": 3
   },
   "file_extension": ".py",
   "mimetype": "text/x-python",
   "name": "python",
   "nbconvert_exporter": "python",
   "pygments_lexer": "ipython3",
   "version": "3.12.1"
  }
 },
 "nbformat": 4,
 "nbformat_minor": 5
}
