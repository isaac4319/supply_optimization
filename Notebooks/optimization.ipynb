{
 "cells": [
  {
   "cell_type": "code",
   "execution_count": 2,
   "id": "714e44b5",
   "metadata": {},
   "outputs": [],
   "source": [
    "import pandas as pd\n",
    "from pulp import *"
   ]
  },
  {
   "cell_type": "code",
   "execution_count": 6,
   "id": "9bec9ac4",
   "metadata": {},
   "outputs": [
    {
     "name": "stdout",
     "output_type": "stream",
     "text": [
      "Collecting pulp\n",
      "  Downloading pulp-3.2.1-py3-none-any.whl.metadata (6.9 kB)\n",
      "Downloading pulp-3.2.1-py3-none-any.whl (16.4 MB)\n",
      "\u001b[2K   \u001b[90m━━━━━━━━━━━━━━━━━━━━━━━━━━━━━━━━━━━━━━━━\u001b[0m \u001b[32m16.4/16.4 MB\u001b[0m \u001b[31m70.4 MB/s\u001b[0m eta \u001b[36m0:00:00\u001b[0m:00:01\u001b[0m\n",
      "\u001b[?25hInstalling collected packages: pulp\n",
      "\u001b[33m  WARNING: The script pulptest is installed in '/usr/local/python/3.12.1/bin' which is not on PATH.\n",
      "  Consider adding this directory to PATH or, if you prefer to suppress this warning, use --no-warn-script-location.\u001b[0m\u001b[33m\n",
      "\u001b[0mSuccessfully installed pulp-3.2.1\n",
      "Note: you may need to restart the kernel to use updated packages.\n"
     ]
    }
   ],
   "source": [
    "pip install pulp"
   ]
  },
  {
   "cell_type": "code",
   "execution_count": 3,
   "id": "6792e927",
   "metadata": {},
   "outputs": [],
   "source": [
    "stock = pd.read_csv(\"../Data/data/inventory.csv\")\n",
    "predicted_demand = pd.read_csv(\"../data/forecasted_demand.csv\")\n",
    "transport_cost = pd.read_csv(\"../Data/data/transport_costs.csv\")"
   ]
  },
  {
   "cell_type": "code",
   "execution_count": 4,
   "id": "163611ea",
   "metadata": {},
   "outputs": [
    {
     "name": "stdout",
     "output_type": "stream",
     "text": [
      "Welcome to the CBC MILP Solver \n",
      "Version: 2.10.3 \n",
      "Build Date: Dec 15 2019 \n",
      "\n",
      "command line - /usr/local/python/3.12.1/lib/python3.12/site-packages/pulp/apis/../solverdir/cbc/linux/i64/cbc /tmp/1ed662d883a34f60a3bb1d6445737323-pulp.mps -timeMode elapsed -branch -printingOptions all -solution /tmp/1ed662d883a34f60a3bb1d6445737323-pulp.sol (default strategy 1)\n",
      "At line 2 NAME          MODEL\n",
      "At line 3 ROWS\n",
      "At line 18 COLUMNS\n",
      "At line 799 RHS\n",
      "At line 813 BOUNDS\n",
      "At line 970 ENDATA\n",
      "Problem MODEL has 13 rows, 156 columns and 312 elements\n",
      "Coin0008I MODEL read with 0 errors\n",
      "Option for timeMode changed from cpu to elapsed\n",
      "Continuous objective value is 0 - 0.00 seconds\n",
      "Cgl0003I 0 fixed, 156 tightened bounds, 0 strengthened rows, 0 substitutions\n",
      "Cgl0004I processed model has 13 rows, 156 columns (156 integer (0 of which binary)) and 312 elements\n",
      "Cutoff increment increased from 1e-05 to 0.00999\n",
      "Cbc0012I Integer solution of -0 found by DiveCoefficient after 0 iterations and 0 nodes (0.00 seconds)\n",
      "Cbc0001I Search completed - best objective -0, took 0 iterations and 0 nodes (0.00 seconds)\n",
      "Cbc0035I Maximum depth 0, 0 variables fixed on reduced cost\n",
      "Cuts at root node changed objective from 0 to 0\n",
      "Probing was tried 0 times and created 0 cuts of which 0 were active after adding rounds of cuts (0.000 seconds)\n",
      "Gomory was tried 0 times and created 0 cuts of which 0 were active after adding rounds of cuts (0.000 seconds)\n",
      "Knapsack was tried 0 times and created 0 cuts of which 0 were active after adding rounds of cuts (0.000 seconds)\n",
      "Clique was tried 0 times and created 0 cuts of which 0 were active after adding rounds of cuts (0.000 seconds)\n",
      "MixedIntegerRounding2 was tried 0 times and created 0 cuts of which 0 were active after adding rounds of cuts (0.000 seconds)\n",
      "FlowCover was tried 0 times and created 0 cuts of which 0 were active after adding rounds of cuts (0.000 seconds)\n",
      "TwoMirCuts was tried 0 times and created 0 cuts of which 0 were active after adding rounds of cuts (0.000 seconds)\n",
      "ZeroHalf was tried 0 times and created 0 cuts of which 0 were active after adding rounds of cuts (0.000 seconds)\n",
      "\n",
      "Result - Optimal solution found\n",
      "\n",
      "Objective value:                -0.00000000\n",
      "Enumerated nodes:               0\n",
      "Total iterations:               0\n",
      "Time (CPU seconds):             0.00\n",
      "Time (Wallclock seconds):       0.00\n",
      "\n",
      "Option for printingOptions changed from normal to all\n",
      "Total time (CPU seconds):       0.00   (Wallclock seconds):       0.00\n",
      "\n",
      "Status: Optimal\n"
     ]
    }
   ],
   "source": [
    "date = stock['date'].max()\n",
    "stock_today = stock[stock['date'] == date].groupby('warehouse')['stock_level'].sum().to_dict()\n",
    "demand_today = predicted_demand[predicted_demand['date'] == date].groupby('warehouse')['predicted_demand'].sum().to_dict()\n",
    "cost_dict = transport_cost.set_index(['from_warehouse', 'to_warehouse'])['cost_per_unit'].to_dict()\n",
    "\n",
    "# Define LP model\n",
    "model = LpProblem(\"SupplyChainOptimizer\", LpMinimize)\n",
    "\n",
    "warehouses = list(stock_today.keys())\n",
    "transfers = [(i, j) for i in warehouses for j in warehouses if i != j]\n",
    "\n",
    "# Decision variables\n",
    "x = LpVariable.dicts(\"Transfer\", transfers, lowBound=0, cat='Integer')\n",
    "\n",
    "# Objective: Minimize total transfer cost\n",
    "model += lpSum([x[i] * cost_dict[i] for i in transfers])\n",
    "\n",
    "# Constraints: Don’t overdraw stock, meet demand\n",
    "for w in warehouses:\n",
    "    outgoing = lpSum([x[(w, j)] for j in warehouses if w != j])\n",
    "    incoming = lpSum([x[(i, w)] for i in warehouses if i != w])\n",
    "    net_stock = stock_today.get(w, 0) + incoming - outgoing\n",
    "    demand_needed = demand_today.get(w, 0)\n",
    "    model += net_stock >= demand_needed\n",
    "\n",
    "# Solve\n",
    "model.solve()\n",
    "print(\"Status:\", LpStatus[model.status])\n",
    "for var in model.variables():\n",
    "    if var.varValue > 0:\n",
    "        print(var.name, \"=\", var.varValue)"
   ]
  }
 ],
 "metadata": {
  "kernelspec": {
   "display_name": "Python 3",
   "language": "python",
   "name": "python3"
  },
  "language_info": {
   "codemirror_mode": {
    "name": "ipython",
    "version": 3
   },
   "file_extension": ".py",
   "mimetype": "text/x-python",
   "name": "python",
   "nbconvert_exporter": "python",
   "pygments_lexer": "ipython3",
   "version": "3.12.1"
  }
 },
 "nbformat": 4,
 "nbformat_minor": 5
}
