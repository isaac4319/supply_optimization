{
 "cells": [
  {
   "cell_type": "code",
   "execution_count": 7,
   "id": "714e44b5",
   "metadata": {},
   "outputs": [],
   "source": [
    "import pandas as pd\n",
    "from pulp import *"
   ]
  },
  {
   "cell_type": "code",
   "execution_count": 6,
   "id": "9bec9ac4",
   "metadata": {},
   "outputs": [
    {
     "name": "stdout",
     "output_type": "stream",
     "text": [
      "Collecting pulp\n",
      "  Downloading pulp-3.2.1-py3-none-any.whl.metadata (6.9 kB)\n",
      "Downloading pulp-3.2.1-py3-none-any.whl (16.4 MB)\n",
      "\u001b[2K   \u001b[90m━━━━━━━━━━━━━━━━━━━━━━━━━━━━━━━━━━━━━━━━\u001b[0m \u001b[32m16.4/16.4 MB\u001b[0m \u001b[31m70.4 MB/s\u001b[0m eta \u001b[36m0:00:00\u001b[0m:00:01\u001b[0m\n",
      "\u001b[?25hInstalling collected packages: pulp\n",
      "\u001b[33m  WARNING: The script pulptest is installed in '/usr/local/python/3.12.1/bin' which is not on PATH.\n",
      "  Consider adding this directory to PATH or, if you prefer to suppress this warning, use --no-warn-script-location.\u001b[0m\u001b[33m\n",
      "\u001b[0mSuccessfully installed pulp-3.2.1\n",
      "Note: you may need to restart the kernel to use updated packages.\n"
     ]
    }
   ],
   "source": [
    "pip install pulp"
   ]
  },
  {
   "cell_type": "code",
   "execution_count": 10,
   "id": "6792e927",
   "metadata": {},
   "outputs": [],
   "source": [
    "stock = pd.read_csv(\"../Data/data/inventory.csv\")\n",
    "predicted_demand = pd.read_csv(\"../data/forecasted_demand.csv\")\n",
    "transport_cost = pd.read_csv(\"../Data/data/transport_costs.csv\")"
   ]
  },
  {
   "cell_type": "code",
   "execution_count": null,
   "id": "163611ea",
   "metadata": {},
   "outputs": [],
   "source": [
    "date = stock['date'].max()\n",
    "stock_today = stock[stock['date'] == date].groupby('warehouse')['stock_level'].sum().to_dict()\n",
    "demand_today = demand[demand['date'] == date].groupby('warehouse')['demand_units'].sum().to_dict()\n",
    "cost_dict = costs.set_index(['from_warehouse', 'to_warehouse'])['cost_per_unit'].to_dict()\n",
    "\n",
    "# Define LP model\n",
    "model = LpProblem(\"SupplyChainOptimizer\", LpMinimize)\n",
    "\n",
    "warehouses = list(stock_today.keys())\n",
    "transfers = [(i, j) for i in warehouses for j in warehouses if i != j]\n",
    "\n",
    "# Decision variables\n",
    "x = LpVariable.dicts(\"Transfer\", transfers, lowBound=0, cat='Integer')\n",
    "\n",
    "# Objective: Minimize total transfer cost\n",
    "model += lpSum([x[i] * cost_dict[i] for i in transfers])\n",
    "\n",
    "# Constraints: Don’t overdraw stock, meet demand\n",
    "for w in warehouses:\n",
    "    outgoing = lpSum([x[(w, j)] for j in warehouses if w != j])\n",
    "    incoming = lpSum([x[(i, w)] for i in warehouses if i != w])\n",
    "    net_stock = stock_today.get(w, 0) + incoming - outgoing\n",
    "    demand_needed = demand_today.get(w, 0)\n",
    "    model += net_stock >= demand_needed\n",
    "\n",
    "# Solve\n",
    "model.solve()\n",
    "print(\"Status:\", LpStatus[model.status])\n",
    "for var in model.variables():\n",
    "    if var.varValue > 0:\n",
    "        print(var.name, \"=\", var.varValue)"
   ]
  }
 ],
 "metadata": {
  "kernelspec": {
   "display_name": "Python 3",
   "language": "python",
   "name": "python3"
  },
  "language_info": {
   "codemirror_mode": {
    "name": "ipython",
    "version": 3
   },
   "file_extension": ".py",
   "mimetype": "text/x-python",
   "name": "python",
   "nbconvert_exporter": "python",
   "pygments_lexer": "ipython3",
   "version": "3.12.1"
  }
 },
 "nbformat": 4,
 "nbformat_minor": 5
}
